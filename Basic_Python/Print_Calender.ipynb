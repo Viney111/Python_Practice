{
 "cells": [
  {
   "cell_type": "code",
   "execution_count": 4,
   "id": "66adc676-eca5-4f23-813d-a9674a521c45",
   "metadata": {},
   "outputs": [
    {
     "name": "stdin",
     "output_type": "stream",
     "text": [
      "Enter the year :  2022\n",
      "Enter the month :  5\n"
     ]
    },
    {
     "name": "stdout",
     "output_type": "stream",
     "text": [
      "      May 2022\n",
      "Mo Tu We Th Fr Sa Su\n",
      "                   1\n",
      " 2  3  4  5  6  7  8\n",
      " 9 10 11 12 13 14 15\n",
      "16 17 18 19 20 21 22\n",
      "23 24 25 26 27 28 29\n",
      "30 31\n",
      "\n"
     ]
    }
   ],
   "source": [
    "'''\n",
    "@Author: Viney Khaneja\n",
    "@Date: 2022-04-18 15:40\n",
    "@Last Modified by: Viney Khaneja\n",
    "@Last Modified time: None\n",
    "@Title : Print Calender of the month\n",
    "'''\n",
    "\n",
    "import calendar\n",
    "\n",
    "try:\n",
    "    year = int(input(\"Enter the year : \"))\n",
    "    month = int(input(\"Enter the month : \"))\n",
    "    if 999<year<=9999 and 0<month<=12:\n",
    "        my_calender = calendar.month(year,month)\n",
    "        print(my_calender)\n",
    "    else:\n",
    "        print(\"Invalid data\")\n",
    "\n",
    "except Exception as ex:\n",
    "    print(ex)\n",
    "    "
   ]
  },
  {
   "cell_type": "code",
   "execution_count": null,
   "id": "ae34e776-7d70-4134-8aef-f26b4a77f45f",
   "metadata": {},
   "outputs": [],
   "source": []
  }
 ],
 "metadata": {
  "kernelspec": {
   "display_name": "Python 3 (ipykernel)",
   "language": "python",
   "name": "python3"
  },
  "language_info": {
   "codemirror_mode": {
    "name": "ipython",
    "version": 3
   },
   "file_extension": ".py",
   "mimetype": "text/x-python",
   "name": "python",
   "nbconvert_exporter": "python",
   "pygments_lexer": "ipython3",
   "version": "3.7.0"
  }
 },
 "nbformat": 4,
 "nbformat_minor": 5
}
