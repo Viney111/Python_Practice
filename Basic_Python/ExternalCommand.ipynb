{
 "cells": [
  {
   "cell_type": "code",
   "execution_count": 3,
   "id": "843af24c-f5da-49a0-92b9-b3d960caf79b",
   "metadata": {},
   "outputs": [
    {
     "name": "stdout",
     "output_type": "stream",
     "text": [
      "Output of run() :  CompletedProcess(args=['ping', 'localhost'], returncode=0)\n"
     ]
    }
   ],
   "source": [
    "'''\n",
    "@Author: Viney Khaneja\n",
    "@Date: 2022-04-18 17:23\n",
    "@Last Modified by: Viney Khaneja\n",
    "@Last Modified time: None\n",
    "@Title : Call an external command in Python\n",
    "'''\n",
    "\n",
    "import subprocess\n",
    "try:\n",
    "    return_code = subprocess.run(['ping', 'localhost'])\n",
    "    print(\"Output of run() : \", return_code)\n",
    "except Exception as ex:\n",
    "    print(ex)"
   ]
  },
  {
   "cell_type": "code",
   "execution_count": null,
   "id": "3e106057-8f40-4d01-85fd-d57dfd69e057",
   "metadata": {},
   "outputs": [],
   "source": []
  }
 ],
 "metadata": {
  "kernelspec": {
   "display_name": "Python 3 (ipykernel)",
   "language": "python",
   "name": "python3"
  },
  "language_info": {
   "codemirror_mode": {
    "name": "ipython",
    "version": 3
   },
   "file_extension": ".py",
   "mimetype": "text/x-python",
   "name": "python",
   "nbconvert_exporter": "python",
   "pygments_lexer": "ipython3",
   "version": "3.7.0"
  }
 },
 "nbformat": 4,
 "nbformat_minor": 5
}
