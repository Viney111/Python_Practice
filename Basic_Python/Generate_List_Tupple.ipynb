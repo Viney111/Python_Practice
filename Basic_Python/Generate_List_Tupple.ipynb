{
 "cells": [
  {
   "cell_type": "code",
   "execution_count": 4,
   "id": "6e84c4c4-e1c2-4abc-b8fe-5652a4ae1a42",
   "metadata": {},
   "outputs": [
    {
     "name": "stdin",
     "output_type": "stream",
     "text": [
      "Enter string of numbers by comma separated:  4,5,8,9,7\n"
     ]
    },
    {
     "name": "stdout",
     "output_type": "stream",
     "text": [
      "List is:  ['4', '5', '8', '9', '7']\n",
      "Type is:  <class 'list'>\n",
      "Tupple is:  ('4', '5', '8', '9', '7')\n",
      "Type is:  <class 'tuple'>\n"
     ]
    }
   ],
   "source": [
    "'''\n",
    "@Author: Viney Khaneja\n",
    "@Date: 2022-04-18 15:12\n",
    "@Last Modified by: Viney Khaneja\n",
    "@Last Modified time: None\n",
    "@Title : User Name Reverse Order \n",
    "'''\n",
    "try:\n",
    "    #user inputs\n",
    "    user_data = input(\"Enter string of numbers by comma separated: \") # 2,4,5,8 like this\n",
    "    converted_list = list(user_data.split(\",\"))\n",
    "    print(\"List is: \",converted_list)\n",
    "    print(\"Type is: \",type(converted_list))\n",
    "    converted_tupple = tuple(user_data.split(\",\"))\n",
    "    print(\"Tupple is: \",converted_tupple)\n",
    "    print(\"Type is: \",type(converted_tupple))\n",
    "except Exception as ex:\n",
    "    print(ex)"
   ]
  },
  {
   "cell_type": "code",
   "execution_count": null,
   "id": "d1edb9fe-618b-4ac2-9dc8-c97be79a8926",
   "metadata": {},
   "outputs": [],
   "source": []
  }
 ],
 "metadata": {
  "kernelspec": {
   "display_name": "Python 3 (ipykernel)",
   "language": "python",
   "name": "python3"
  },
  "language_info": {
   "codemirror_mode": {
    "name": "ipython",
    "version": 3
   },
   "file_extension": ".py",
   "mimetype": "text/x-python",
   "name": "python",
   "nbconvert_exporter": "python",
   "pygments_lexer": "ipython3",
   "version": "3.7.0"
  }
 },
 "nbformat": 4,
 "nbformat_minor": 5
}
