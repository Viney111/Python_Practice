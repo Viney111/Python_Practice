{
 "cells": [
  {
   "cell_type": "code",
   "execution_count": 6,
   "id": "34eabffc-619d-4cf9-ad0b-146def7bc3b0",
   "metadata": {},
   "outputs": [
    {
     "name": "stdout",
     "output_type": "stream",
     "text": [
      "Unique colors by filter method is:  {'Black', 'White'}\n",
      "Unique colors by difference method is:  {'Black', 'White'}\n"
     ]
    }
   ],
   "source": [
    "'''\n",
    "@Author: Viney Khaneja\n",
    "@Date: 2022-04-18 15:50\n",
    "@Last Modified by: Viney Khaneja\n",
    "@Last Modified time: None\n",
    "@Title : Color list segregating  between two lists\n",
    "'''\n",
    "try:\n",
    "    color_list_1 = set([\"White\",\"Black\",\"Red\"])\n",
    "    color_list_2 = set([\"Red\",\"Green\"])\n",
    "    segregated_list_1 = set(filter(lambda x: x not in color_list_2,color_list_1))\n",
    "    segregated_list_2 = color_list_1.difference(color_list_2)\n",
    "    print(\"Unique colors by filter method is: \",segregated_list_1)\n",
    "    print(\"Unique colors by difference method is: \",segregated_list_2)\n",
    "except Exception as ex:\n",
    "    print(ex)\n"
   ]
  },
  {
   "cell_type": "code",
   "execution_count": null,
   "id": "c3399d11-ec6f-4737-944c-78406320925c",
   "metadata": {},
   "outputs": [],
   "source": []
  }
 ],
 "metadata": {
  "kernelspec": {
   "display_name": "Python 3 (ipykernel)",
   "language": "python",
   "name": "python3"
  },
  "language_info": {
   "codemirror_mode": {
    "name": "ipython",
    "version": 3
   },
   "file_extension": ".py",
   "mimetype": "text/x-python",
   "name": "python",
   "nbconvert_exporter": "python",
   "pygments_lexer": "ipython3",
   "version": "3.7.0"
  }
 },
 "nbformat": 4,
 "nbformat_minor": 5
}
