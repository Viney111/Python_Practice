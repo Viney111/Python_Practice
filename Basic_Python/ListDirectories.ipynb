{
 "cells": [
  {
   "cell_type": "code",
   "execution_count": 4,
   "metadata": {},
   "outputs": [
    {
     "name": "stdout",
     "output_type": "stream",
     "text": [
      "Files & Directories on this  C:\\Users\\Kashish Manchanda\\Desktop\\THE HINDU\\CFP_Bridgelabz\\Python\\Python_Practice  are: \n",
      "['.git', '.gitignore', 'Basic_Python', 'Functional_Programs', 'ML Problem.pdf', 'README.md']\n"
     ]
    }
   ],
   "source": [
    "'''\n",
    "@Author: Viney Khaneja\n",
    "@Date: 2022-04-18 21:18\n",
    "@Last Modified by: Viney Khaneja\n",
    "@Last Modified time: None\n",
    "@Title : Calculate days between two dates \n",
    "'''\n",
    "\n",
    "import os\n",
    "try:\n",
    "    sample_path = r\"C:\\Users\\Kashish Manchanda\\Desktop\\THE HINDU\\CFP_Bridgelabz\\Python\\Python_Practice\"\n",
    "    dir_list = os.listdir(sample_path)\n",
    "    print(\"Files & Directories on this \", sample_path,\" are: \")\n",
    "    print(dir_list)\n",
    "except Exception as ex:\n",
    "    print(ex)\n"
   ]
  },
  {
   "cell_type": "code",
   "execution_count": null,
   "metadata": {},
   "outputs": [],
   "source": []
  }
 ],
 "metadata": {
  "interpreter": {
   "hash": "04635d289a519a1410467dd0afb0db42f9184808881ca68b2eb5a687a20a5a94"
  },
  "kernelspec": {
   "display_name": "Python 3.7.0 64-bit",
   "language": "python",
   "name": "python3"
  },
  "language_info": {
   "codemirror_mode": {
    "name": "ipython",
    "version": 3
   },
   "file_extension": ".py",
   "mimetype": "text/x-python",
   "name": "python",
   "nbconvert_exporter": "python",
   "pygments_lexer": "ipython3",
   "version": "3.7.0"
  },
  "orig_nbformat": 4
 },
 "nbformat": 4,
 "nbformat_minor": 2
}
