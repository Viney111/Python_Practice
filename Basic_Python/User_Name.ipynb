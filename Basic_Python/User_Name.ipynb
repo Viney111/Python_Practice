{
 "cells": [
  {
   "cell_type": "code",
   "execution_count": 1,
   "id": "0a05bc11-e630-4896-9033-2f1cab891499",
   "metadata": {},
   "outputs": [
    {
     "name": "stdin",
     "output_type": "stream",
     "text": [
      "Enter the First name :  Viney\n",
      "Enter the Last name :  Khaneja\n"
     ]
    },
    {
     "name": "stdout",
     "output_type": "stream",
     "text": [
      "Full Name is :  Viney Khaneja\n",
      "Reverse Name is :  ajenahK yeniV\n"
     ]
    }
   ],
   "source": [
    "'''\n",
    "@Author: Viney Khaneja\n",
    "@Date: 2022-04-18 15:12\n",
    "@Last Modified by: Viney Khaneja\n",
    "@Last Modified time: None\n",
    "@Title : User Name Reverse Order \n",
    "'''\n",
    "try:\n",
    "    #user inputs\n",
    "    first_name = input(\"Enter the First name : \")\n",
    "    last_name = input(\"Enter the Last name : \")\n",
    "\n",
    "    print(\"Full Name is : \",first_name,last_name)\n",
    "    print(\"Reverse Name is : \",last_name[-1::-1],first_name[-1::-1])#(start-index:end-index:gap(ignore))\n",
    "\n",
    "except Exception as ex:\n",
    "    print(ex)"
   ]
  },
  {
   "cell_type": "code",
   "execution_count": null,
   "id": "cbf568e2-7767-4065-b32c-eb4398ba6cc8",
   "metadata": {},
   "outputs": [],
   "source": []
  }
 ],
 "metadata": {
  "kernelspec": {
   "display_name": "Python 3 (ipykernel)",
   "language": "python",
   "name": "python3"
  },
  "language_info": {
   "codemirror_mode": {
    "name": "ipython",
    "version": 3
   },
   "file_extension": ".py",
   "mimetype": "text/x-python",
   "name": "python",
   "nbconvert_exporter": "python",
   "pygments_lexer": "ipython3",
   "version": "3.7.0"
  }
 },
 "nbformat": 4,
 "nbformat_minor": 5
}
