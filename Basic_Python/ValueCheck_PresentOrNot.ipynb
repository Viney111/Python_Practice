{
 "cells": [
  {
   "cell_type": "code",
   "execution_count": 1,
   "id": "d7584380-762d-4c94-a87e-a5da48c1fc26",
   "metadata": {},
   "outputs": [
    {
     "name": "stdout",
     "output_type": "stream",
     "text": [
      "The result for checking 3 in list is: True\n",
      "The result for checking 3 in list is: False\n"
     ]
    }
   ],
   "source": [
    "'''\n",
    "@Author: Viney Khaneja\n",
    "@Date: 2022-04-18 16:10\n",
    "@Last Modified by: Viney Khaneja\n",
    "@Last Modified time: None\n",
    "@Title : Checking,if list contained a specific item or not \n",
    "'''\n",
    "\n",
    "try:\n",
    "    sample_list = [1,5,8,3]\n",
    "    print(f\"The result for checking 3 in list is: {3 in sample_list}\")\n",
    "    print(f\"The result for checking 3 in list is: {-1 in sample_list}\")\n",
    "except Exception as ex:\n",
    "    print(ex)"
   ]
  },
  {
   "cell_type": "code",
   "execution_count": null,
   "id": "268f6bca-5b88-4228-94d1-720dd19b389e",
   "metadata": {},
   "outputs": [],
   "source": []
  }
 ],
 "metadata": {
  "kernelspec": {
   "display_name": "Python 3 (ipykernel)",
   "language": "python",
   "name": "python3"
  },
  "language_info": {
   "codemirror_mode": {
    "name": "ipython",
    "version": 3
   },
   "file_extension": ".py",
   "mimetype": "text/x-python",
   "name": "python",
   "nbconvert_exporter": "python",
   "pygments_lexer": "ipython3",
   "version": "3.7.0"
  }
 },
 "nbformat": 4,
 "nbformat_minor": 5
}
