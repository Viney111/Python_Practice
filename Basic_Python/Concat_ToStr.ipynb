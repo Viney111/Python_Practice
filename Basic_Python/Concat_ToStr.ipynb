{
 "cells": [
  {
   "cell_type": "code",
   "execution_count": 2,
   "id": "6280860e-1321-4446-a8d1-06d95334b546",
   "metadata": {},
   "outputs": [
    {
     "name": "stdout",
     "output_type": "stream",
     "text": [
      "After concatenating, the result is:  Viney is a good boy\n"
     ]
    }
   ],
   "source": [
    "'''\n",
    "@Author: Viney Khaneja\n",
    "@Date: 2022-04-18 15:50\n",
    "@Last Modified by: Viney Khaneja\n",
    "@Last Modified time: None\n",
    "@Title : Concatenate elements of list into string\n",
    "'''\n",
    "try:\n",
    "    sample_list =[\"Viney\",\"is\",\"a\",\"good\",\"boy\"]\n",
    "    str_output = \"\"\n",
    "    for item in sample_list:\n",
    "        str_output = str_output + \" \" + item\n",
    "    print(\"After concatenating, the result is:\",str_output)\n",
    "except exception as ex:\n",
    "    print(ex)\n",
    "        "
   ]
  },
  {
   "cell_type": "code",
   "execution_count": null,
   "id": "6eca3865-e5ac-49b9-9196-5f4352fc570b",
   "metadata": {},
   "outputs": [],
   "source": []
  }
 ],
 "metadata": {
  "kernelspec": {
   "display_name": "Python 3 (ipykernel)",
   "language": "python",
   "name": "python3"
  },
  "language_info": {
   "codemirror_mode": {
    "name": "ipython",
    "version": 3
   },
   "file_extension": ".py",
   "mimetype": "text/x-python",
   "name": "python",
   "nbconvert_exporter": "python",
   "pygments_lexer": "ipython3",
   "version": "3.7.0"
  }
 },
 "nbformat": 4,
 "nbformat_minor": 5
}
