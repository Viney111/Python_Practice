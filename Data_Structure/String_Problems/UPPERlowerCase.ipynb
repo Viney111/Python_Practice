{
 "cells": [
  {
   "cell_type": "code",
   "execution_count": 1,
   "metadata": {},
   "outputs": [
    {
     "name": "stdout",
     "output_type": "stream",
     "text": [
      "Uppper case of Viney is VINEY\n",
      "Lower case of Viney is viney\n"
     ]
    }
   ],
   "source": [
    "'''\n",
    "@Author: Viney Khaneja\n",
    "@Date: 2022-04-18 18:15\n",
    "@Last Modified by: Viney Khaneja\n",
    "@Last Modified time: None\n",
    "@Title : Upper Lower case of input string\n",
    "'''\n",
    "def upper_lower_case(sample_word):\n",
    "    \"\"\"\n",
    "        Description : Upper Lower case of input string\n",
    "        Parameters : sample_word\n",
    "        Returns :None, Just prints  upper lower case string\n",
    "    \"\"\"\n",
    "    try:\n",
    "        print(f\"Uppper case of {sample_word} is {sample_word.upper()}\")\n",
    "        print(f\"Lower case of {sample_word} is {sample_word.lower()}\")\n",
    "    except Exception as ex:\n",
    "        print(ex)\n",
    "if __name__ == \"__main__\":\n",
    "    input_word = input(\"Enter the word: \")\n",
    "    upper_lower_case(input_word)"
   ]
  }
 ],
 "metadata": {
  "interpreter": {
   "hash": "04635d289a519a1410467dd0afb0db42f9184808881ca68b2eb5a687a20a5a94"
  },
  "kernelspec": {
   "display_name": "Python 3.7.0 64-bit",
   "language": "python",
   "name": "python3"
  },
  "language_info": {
   "codemirror_mode": {
    "name": "ipython",
    "version": 3
   },
   "file_extension": ".py",
   "mimetype": "text/x-python",
   "name": "python",
   "nbconvert_exporter": "python",
   "pygments_lexer": "ipython3",
   "version": "3.7.0"
  },
  "orig_nbformat": 4
 },
 "nbformat": 4,
 "nbformat_minor": 2
}
