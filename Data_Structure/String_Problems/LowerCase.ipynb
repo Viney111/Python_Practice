{
 "cells": [
  {
   "cell_type": "code",
   "execution_count": 1,
   "metadata": {},
   "outputs": [
    {
     "name": "stdout",
     "output_type": "stream",
     "text": [
      "Original String :  BRIDGELABZ IS GROWING\n",
      "Lower case : bridgELABZ IS GROWING\n"
     ]
    }
   ],
   "source": [
    "\n",
    "'''\n",
    "@Author: Viney Khaneja\n",
    "@Date: 2022-04-18 18:15\n",
    "@Last Modified by: Viney Khaneja\n",
    "@Last Modified time: None\n",
    "@Title : Loower case from n characters\n",
    "'''\n",
    "def lower_case():\n",
    "    \"\"\"\n",
    "    Description : This Function prints the string in lower case from n,where n is user input \n",
    "    Parameters : None\n",
    "    Returns : None\n",
    "    \"\"\"\n",
    "    try:\n",
    "        string = \"BRIDGELABZ IS GROWING\"\n",
    "        print(\"Original String : \",string)\n",
    "        n = int(input(\"Enter a range to lowercase: \"))\n",
    "        print(\"Lower case :\", string[:n].lower()+ string[n:])      \n",
    "    except Exception as ex:\n",
    "        print(ex)\n",
    "\n",
    "if __name__ == \"__main__\":\n",
    "    lower_case()"
   ]
  }
 ],
 "metadata": {
  "interpreter": {
   "hash": "04635d289a519a1410467dd0afb0db42f9184808881ca68b2eb5a687a20a5a94"
  },
  "kernelspec": {
   "display_name": "Python 3.7.0 64-bit",
   "language": "python",
   "name": "python3"
  },
  "language_info": {
   "codemirror_mode": {
    "name": "ipython",
    "version": 3
   },
   "file_extension": ".py",
   "mimetype": "text/x-python",
   "name": "python",
   "nbconvert_exporter": "python",
   "pygments_lexer": "ipython3",
   "version": "3.7.0"
  },
  "orig_nbformat": 4
 },
 "nbformat": 4,
 "nbformat_minor": 2
}
