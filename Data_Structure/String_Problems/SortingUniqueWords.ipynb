{
 "cells": [
  {
   "cell_type": "code",
   "execution_count": 2,
   "metadata": {},
   "outputs": [
    {
     "name": "stdout",
     "output_type": "stream",
     "text": [
      "Sorted Unique string is  black,green,red,white\n"
     ]
    }
   ],
   "source": [
    "'''\n",
    "@Author: Viney Khaneja\n",
    "@Date: 2022-04-18 18:15\n",
    "@Last Modified by: Viney Khaneja\n",
    "@Last Modified time: None\n",
    "@Title : Sorting Unique Words from comma separated intake value\n",
    "'''\n",
    "from functools import reduce\n",
    "def sorting_unique_words(sample_str):\n",
    "    \"\"\"\n",
    "        Description : Sorting Unique Words from comma separated intake value\n",
    "        Parameters : sample_str i.e. in comma separated form\n",
    "        Returns :None, Just prints sorted unique words\n",
    "    \"\"\"\n",
    "    try:\n",
    "        sample_list = sample_str.split(\",\")\n",
    "        sample_set = set(sample_list)\n",
    "        sample_list = list(sample_set)\n",
    "        sample_list.sort()\n",
    "        resulted_str = reduce(lambda x,y : x +\",\"+ y,sample_list)\n",
    "        print(\"Sorted Unique string is \",resulted_str)\n",
    "    except Exception as ex:\n",
    "        print(ex)\n",
    "if __name__ == \"__main__\":\n",
    "    sample_string = \"red,white,black,red,green,black\"\n",
    "    sorting_unique_words(sample_string)"
   ]
  }
 ],
 "metadata": {
  "interpreter": {
   "hash": "04635d289a519a1410467dd0afb0db42f9184808881ca68b2eb5a687a20a5a94"
  },
  "kernelspec": {
   "display_name": "Python 3.7.0 64-bit",
   "language": "python",
   "name": "python3"
  },
  "language_info": {
   "codemirror_mode": {
    "name": "ipython",
    "version": 3
   },
   "file_extension": ".py",
   "mimetype": "text/x-python",
   "name": "python",
   "nbconvert_exporter": "python",
   "pygments_lexer": "ipython3",
   "version": "3.7.0"
  },
  "orig_nbformat": 4
 },
 "nbformat": 4,
 "nbformat_minor": 2
}
