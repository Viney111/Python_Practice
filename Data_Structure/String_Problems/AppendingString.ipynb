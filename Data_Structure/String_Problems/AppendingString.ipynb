{
 "cells": [
  {
   "cell_type": "code",
   "execution_count": 13,
   "metadata": {},
   "outputs": [
    {
     "name": "stdout",
     "output_type": "stream",
     "text": [
      "abcing\n",
      "stringly\n",
      "ab\n"
     ]
    }
   ],
   "source": [
    "'''\n",
    "@Author: Viney Khaneja\n",
    "@Date: 2022-04-18 18:15\n",
    "@Last Modified by: Viney Khaneja\n",
    "@Last Modified time: None\n",
    "@Title : Add 'ing' to end of given string,if already ends with 'ing' then append 'ly' to end\n",
    "'''\n",
    "def appending_to_string(sample_string):\n",
    "    \"\"\"\n",
    "    Description : Add 'ing' to end of given string,if already ends with 'ing' then append 'ly' to end\n",
    "    Parameters : String\n",
    "    Returns : None, just prints appended string\n",
    "    \"\"\"\n",
    "    try:\n",
    "        if len(sample_string) >= 3 and sample_string[-3:] != \"ing\":\n",
    "            sample_string = sample_string + \"ing\"\n",
    "        elif len(sample_string) >=3  and sample_string[-3:] == \"ing\":\n",
    "            sample_string = sample_string + \"ly\"\n",
    "        else:\n",
    "            pass\n",
    "        print(sample_string)\n",
    "    except Exception as ex:\n",
    "        print(ex)\n",
    "if __name__ ==  \"__main__\":\n",
    "    appending_to_string(\"abc\")\n",
    "    appending_to_string(\"string\")\n",
    "    appending_to_string(\"ab\")"
   ]
  }
 ],
 "metadata": {
  "interpreter": {
   "hash": "04635d289a519a1410467dd0afb0db42f9184808881ca68b2eb5a687a20a5a94"
  },
  "kernelspec": {
   "display_name": "Python 3.7.0 64-bit",
   "language": "python",
   "name": "python3"
  },
  "language_info": {
   "codemirror_mode": {
    "name": "ipython",
    "version": 3
   },
   "file_extension": ".py",
   "mimetype": "text/x-python",
   "name": "python",
   "nbconvert_exporter": "python",
   "pygments_lexer": "ipython3",
   "version": "3.7.0"
  },
  "orig_nbformat": 4
 },
 "nbformat": 4,
 "nbformat_minor": 2
}
