{
 "cells": [
  {
   "cell_type": "code",
   "execution_count": 2,
   "metadata": {},
   "outputs": [
    {
     "name": "stdout",
     "output_type": "stream",
     "text": [
      "Original str :  Subramanyam\n",
      "Reverse str :  maynamarbuS\n"
     ]
    }
   ],
   "source": [
    "'''\n",
    "@Author: Viney Khaneja\n",
    "@Date: 2022-04-18 18:15\n",
    "@Last Modified by: Viney Khaneja\n",
    "@Last Modified time: None\n",
    "@Title : Reverse Strings\n",
    "'''\n",
    "def reverse_str():\n",
    "    \"\"\"\n",
    "        Description : This Function prints reverse string\n",
    "        Parameters : None\n",
    "        Returns : None\n",
    "    \"\"\"\n",
    "    try:\n",
    "        name = \"Subramanyam\"\n",
    "        print(\"Original str : \",name)\n",
    "        print(\"Reverse str : \",name[-1::-1])       \n",
    "    except Exception as ex:\n",
    "        print(ex)\n",
    "\n",
    "if __name__ == \"__main__\":\n",
    "    reverse_str()"
   ]
  }
 ],
 "metadata": {
  "interpreter": {
   "hash": "04635d289a519a1410467dd0afb0db42f9184808881ca68b2eb5a687a20a5a94"
  },
  "kernelspec": {
   "display_name": "Python 3.7.0 64-bit",
   "language": "python",
   "name": "python3"
  },
  "language_info": {
   "codemirror_mode": {
    "name": "ipython",
    "version": 3
   },
   "file_extension": ".py",
   "mimetype": "text/x-python",
   "name": "python",
   "nbconvert_exporter": "python",
   "pygments_lexer": "ipython3",
   "version": "3.7.0"
  },
  "orig_nbformat": 4
 },
 "nbformat": 4,
 "nbformat_minor": 2
}
