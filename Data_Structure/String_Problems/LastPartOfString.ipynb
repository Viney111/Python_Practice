{
 "cells": [
  {
   "cell_type": "code",
   "execution_count": 1,
   "metadata": {},
   "outputs": [
    {
     "name": "stdout",
     "output_type": "stream",
     "text": [
      "Original string :  Viney is a good boy\n",
      "Last part form entered char :  ood boy\n"
     ]
    }
   ],
   "source": [
    "'''\n",
    "@Author: Viney Khaneja\n",
    "@Date: 2022-04-18 18:15\n",
    "@Last Modified by: Viney Khaneja\n",
    "@Last Modified time: None\n",
    "@Title : Get last part of string\n",
    "'''\n",
    "def last_part_of_string():\n",
    "    \"\"\"\n",
    "    Description: This Function prints last part of a specified str,that is is a user input\n",
    "    Parameter: None\n",
    "    Return: None\n",
    "    \"\"\"\n",
    "    try:\n",
    "        string = \"Viney is a good boy\"\n",
    "        print(\"Original string : \",string)\n",
    "        char = input(\"Enter a charater : \")\n",
    "        if char in string:\n",
    "            last = string.index(char)\n",
    "            print(\"Last part form entered char : \",string[last:])\n",
    "        else:\n",
    "            print(\"Charater is not in the string\")\n",
    "        \n",
    "    except Exception as e:\n",
    "        print(e)\n",
    "\n",
    "if __name__ == \"__main__\":\n",
    "    last_part_of_string()"
   ]
  }
 ],
 "metadata": {
  "interpreter": {
   "hash": "04635d289a519a1410467dd0afb0db42f9184808881ca68b2eb5a687a20a5a94"
  },
  "kernelspec": {
   "display_name": "Python 3.7.0 64-bit",
   "language": "python",
   "name": "python3"
  },
  "language_info": {
   "codemirror_mode": {
    "name": "ipython",
    "version": 3
   },
   "file_extension": ".py",
   "mimetype": "text/x-python",
   "name": "python",
   "nbconvert_exporter": "python",
   "pygments_lexer": "ipython3",
   "version": "3.7.0"
  },
  "orig_nbformat": 4
 },
 "nbformat": 4,
 "nbformat_minor": 2
}
