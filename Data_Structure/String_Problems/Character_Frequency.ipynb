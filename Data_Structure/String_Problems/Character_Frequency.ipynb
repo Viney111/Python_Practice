{
 "cells": [
  {
   "cell_type": "code",
   "execution_count": 6,
   "metadata": {},
   "outputs": [
    {
     "name": "stdout",
     "output_type": "stream",
     "text": [
      "g occurs 2 times in google.com.\n",
      "o occurs 3 times in google.com.\n",
      "l occurs 1 times in google.com.\n",
      "e occurs 1 times in google.com.\n",
      ". occurs 1 times in google.com.\n",
      "c occurs 1 times in google.com.\n",
      "m occurs 1 times in google.com.\n"
     ]
    }
   ],
   "source": [
    "'''\n",
    "@Author: Viney Khaneja\n",
    "@Date: 2022-04-18 18:15\n",
    "@Last Modified by: Viney Khaneja\n",
    "@Last Modified time: None\n",
    "@Title : Calculate character frequency\n",
    "'''\n",
    "\n",
    "try:\n",
    "    sample_string = \"google.com\"\n",
    "    count_dict = {}\n",
    "    for item in sample_string:\n",
    "        if item in count_dict:\n",
    "            count_dict[item] += 1\n",
    "        else:\n",
    "            count_dict[item] = 1\n",
    "    for key, value in count_dict.items():\n",
    "        print(f\"{key} occurs {value} times in {sample_string}.\")\n",
    "except Exception as ex:\n",
    "    print(ex)"
   ]
  }
 ],
 "metadata": {
  "interpreter": {
   "hash": "04635d289a519a1410467dd0afb0db42f9184808881ca68b2eb5a687a20a5a94"
  },
  "kernelspec": {
   "display_name": "Python 3.7.0 64-bit",
   "language": "python",
   "name": "python3"
  },
  "language_info": {
   "codemirror_mode": {
    "name": "ipython",
    "version": 3
   },
   "file_extension": ".py",
   "mimetype": "text/x-python",
   "name": "python",
   "nbconvert_exporter": "python",
   "pygments_lexer": "ipython3",
   "version": "3.7.0"
  },
  "orig_nbformat": 4
 },
 "nbformat": 4,
 "nbformat_minor": 2
}
