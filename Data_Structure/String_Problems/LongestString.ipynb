{
 "cells": [
  {
   "cell_type": "code",
   "execution_count": 2,
   "metadata": {},
   "outputs": [
    {
     "name": "stdout",
     "output_type": "stream",
     "text": [
      "Length of longest string in ['Viney', 'Vishal', 'Jagga', 'Subramanyam'] is 11\n"
     ]
    }
   ],
   "source": [
    "'''\n",
    "@Author: Viney Khaneja\n",
    "@Date: 2022-04-18 18:15\n",
    "@Last Modified by: Viney Khaneja\n",
    "@Last Modified time: None\n",
    "@Title : Length of longest string from list\n",
    "'''\n",
    "def longest_string(sample_list):\n",
    "    \"\"\"\n",
    "        Description : Returning Length of longest string from list\n",
    "        Parameters : List i.e sample_list\n",
    "        Returns : Returns length of longest string i.e. max_length\n",
    "    \"\"\"\n",
    "    try:\n",
    "        length_list = []\n",
    "        list(map(lambda x: length_list.append(len(x)),sample_list))\n",
    "        max_length = max(length_list)\n",
    "        return max_length\n",
    "    except Exception as ex:\n",
    "        print(ex)\n",
    "\n",
    "if __name__ == \"__main__\":\n",
    "    lis1 = [\"Viney\",\"Vishal\",\"Jagga\",\"Subramanyam\"]\n",
    "    print(f\"Length of longest string in {lis1} is {longest_string(lis1)}\")"
   ]
  }
 ],
 "metadata": {
  "interpreter": {
   "hash": "04635d289a519a1410467dd0afb0db42f9184808881ca68b2eb5a687a20a5a94"
  },
  "kernelspec": {
   "display_name": "Python 3.7.0 64-bit",
   "language": "python",
   "name": "python3"
  },
  "language_info": {
   "codemirror_mode": {
    "name": "ipython",
    "version": 3
   },
   "file_extension": ".py",
   "mimetype": "text/x-python",
   "name": "python",
   "nbconvert_exporter": "python",
   "pygments_lexer": "ipython3",
   "version": "3.7.0"
  },
  "orig_nbformat": 4
 },
 "nbformat": 4,
 "nbformat_minor": 2
}
