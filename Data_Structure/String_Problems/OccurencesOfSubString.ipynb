{
 "cells": [
  {
   "cell_type": "code",
   "execution_count": 2,
   "metadata": {},
   "outputs": [
    {
     "name": "stdout",
     "output_type": "stream",
     "text": [
      "String :  Vikky teaches students in school & attend coaching classes as well\n",
      "The count of 'c' in string is : 5\n"
     ]
    }
   ],
   "source": [
    "'''\n",
    "@Author: Viney Khaneja\n",
    "@Date: 2022-04-18 19:15\n",
    "@Last Modified by: Viney Khaneja\n",
    "@Last Modified time: None\n",
    "@Title : Occurences of Sub Strings\n",
    "'''\n",
    "def count_substring():\n",
    "    \"\"\"\n",
    "        Description: This Function prints count of substring from the given string\n",
    "        Parameter: None\n",
    "        Return: None\n",
    "    \"\"\"\n",
    "    try:\n",
    "        string = \"Vikky teaches students in school & attend coaching classes as well\"\n",
    "        print(\"String : \",string)\n",
    "        sub_str = input(\"Enter substring to check : \")\n",
    "        print(f\"The count of '{sub_str}' in string is : {string.count(sub_str)}\")\n",
    "        \n",
    "    except Exception as e:\n",
    "        print(e)\n",
    "\n",
    "if __name__ == \"__main__\":\n",
    "    count_substring()"
   ]
  }
 ],
 "metadata": {
  "interpreter": {
   "hash": "04635d289a519a1410467dd0afb0db42f9184808881ca68b2eb5a687a20a5a94"
  },
  "kernelspec": {
   "display_name": "Python 3.7.0 64-bit",
   "language": "python",
   "name": "python3"
  },
  "language_info": {
   "codemirror_mode": {
    "name": "ipython",
    "version": 3
   },
   "file_extension": ".py",
   "mimetype": "text/x-python",
   "name": "python",
   "nbconvert_exporter": "python",
   "pygments_lexer": "ipython3",
   "version": "3.7.0"
  },
  "orig_nbformat": 4
 },
 "nbformat": 4,
 "nbformat_minor": 2
}
