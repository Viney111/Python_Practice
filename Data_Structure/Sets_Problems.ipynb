{
 "cells": [
  {
   "cell_type": "code",
   "execution_count": null,
   "metadata": {},
   "outputs": [],
   "source": [
    "'''\n",
    "@Author: Viney Khaneja\n",
    "@Date: 2022-04-18 10:15\n",
    "@Last Modified by: Viney Khaneja\n",
    "@Last Modified time: None\n",
    "@Title : Sets Problems in Data Structure\n",
    "'''"
   ]
  },
  {
   "cell_type": "markdown",
   "metadata": {},
   "source": [
    "Program to create Set"
   ]
  },
  {
   "cell_type": "code",
   "execution_count": 6,
   "metadata": {},
   "outputs": [
    {
     "name": "stdout",
     "output_type": "stream",
     "text": [
      "Sample element i.e. {True, 1.22, 4, 5, 6, 7, 4j} is of type:  <class 'set'>\n"
     ]
    }
   ],
   "source": [
    "try:\n",
    "    # Duplicate values will be ignored in set as shown in example below:\n",
    "    sample_element = {4,5,6,7,7,7,7,True,1.22,4j}\n",
    "    print(f\"Sample element i.e. {sample_element} is of type: \",type(sample_element))\n",
    "except Exception as ex:\n",
    "    print(ex)"
   ]
  },
  {
   "cell_type": "markdown",
   "metadata": {},
   "source": [
    "Iterate over set"
   ]
  },
  {
   "cell_type": "code",
   "execution_count": 9,
   "metadata": {},
   "outputs": [
    {
     "name": "stdout",
     "output_type": "stream",
     "text": [
      "True\n",
      "1.22\n",
      "4\n",
      "5\n",
      "6\n",
      "7\n",
      "4j\n",
      "Sets are unordered as well as you could relate with print staement while iterating over it.\n"
     ]
    }
   ],
   "source": [
    "try:\n",
    "    # Duplicate values will be ignored in set as shown in example below:\n",
    "    sample_set = {4,5,6,7,7,7,7,True,1.22,4j}\n",
    "    for item in sample_element:\n",
    "        print(item)\n",
    "    print(\"Sets are unordered as well as you could relate with print staement while iterating over it.\")\n",
    "except Exception as ex:\n",
    "    print(ex)"
   ]
  },
  {
   "cell_type": "markdown",
   "metadata": {},
   "source": [
    "Add Members in the set"
   ]
  },
  {
   "cell_type": "code",
   "execution_count": 17,
   "metadata": {},
   "outputs": [
    {
     "name": "stdout",
     "output_type": "stream",
     "text": [
      "After adding elements:  {True, 1.22, 'Viney', 4, 5, 6, 7, 4j, 'Vishal', 'Vikky'}\n"
     ]
    }
   ],
   "source": [
    "try:\n",
    "    set1 = {4,5,6,7,7,7,7,True,1.22,4j}\n",
    "    # Adding one item to the existing set\n",
    "    set1.add(\"Viney\")\n",
    "    # Adding multile items to the existing set\n",
    "    set1.update([\"Vishal\",\"Vikky\"])\n",
    "    print(\"After adding elements: \",set1)\n",
    "\n",
    "except Exception as ex:\n",
    "    print(ex)"
   ]
  },
  {
   "cell_type": "markdown",
   "metadata": {},
   "source": [
    "Remove Members from the set"
   ]
  },
  {
   "cell_type": "code",
   "execution_count": 19,
   "metadata": {},
   "outputs": [
    {
     "name": "stdout",
     "output_type": "stream",
     "text": [
      "After removing element:  {True, 1.22, 'Viney', 4, 5, 4j, 'Vishal', 'Vikky'}\n"
     ]
    }
   ],
   "source": [
    "try:\n",
    "    set2 = {4,5,6,\"Viney\",\"Vishal\",\"Vikky\",True,1.22,4j}\n",
    "    # Removing item from the existing set\n",
    "    set2.remove(6)\n",
    "    print(\"After removing element: \",set2)\n",
    "\n",
    "except Exception as ex:\n",
    "    print(ex)"
   ]
  },
  {
   "cell_type": "markdown",
   "metadata": {},
   "source": [
    "Remove item from set, if it is present in set"
   ]
  },
  {
   "cell_type": "code",
   "execution_count": 22,
   "metadata": {},
   "outputs": [
    {
     "name": "stdout",
     "output_type": "stream",
     "text": [
      "Mentioned item is not present in set\n",
      "{True, 1.22, 'Viney', 4, 5, 6, 4j, 'Vishal', 'Vikky'}\n"
     ]
    }
   ],
   "source": [
    "try:\n",
    "    removing_set = {4,5,6,\"Viney\",\"Vishal\",\"Vikky\",True,1.22,4j}\n",
    "    item_to_be_removed =input(\"Enter item to remove: \")\n",
    "    item_flag = False\n",
    "    for item in removing_set:\n",
    "        if item == item_to_be_removed:\n",
    "            item_flag = True\n",
    "    if item_flag == True:\n",
    "        removing_set.remove(item_to_be_removed)\n",
    "    else:\n",
    "        print(\"Mentioned item is not present in set\")\n",
    "    print(removing_set)\n",
    "except Exception as ex:\n",
    "    print(ex)"
   ]
  },
  {
   "cell_type": "markdown",
   "metadata": {},
   "source": [
    "Create an intersection of sets"
   ]
  },
  {
   "cell_type": "code",
   "execution_count": 25,
   "metadata": {},
   "outputs": [
    {
     "name": "stdout",
     "output_type": "stream",
     "text": [
      "Intersected set is  {3, 4, 5}\n"
     ]
    }
   ],
   "source": [
    "try:\n",
    "    num_set1 = {1,2,3,4,5}\n",
    "    num_set2 = {5,4,3,0,-1,-2}  \n",
    "    print(\"Intersected set is \",num_set1.intersection(num_set2))  \n",
    "except Exception as ex:\n",
    "    print(ex)"
   ]
  },
  {
   "cell_type": "markdown",
   "metadata": {},
   "source": [
    "Create an union of sets"
   ]
  },
  {
   "cell_type": "code",
   "execution_count": 26,
   "metadata": {},
   "outputs": [
    {
     "name": "stdout",
     "output_type": "stream",
     "text": [
      "Union set is  {0, 1, 2, 3, 4, 5, -1, -2}\n"
     ]
    }
   ],
   "source": [
    "try:\n",
    "    num_set11 = {1,2,3,4,5}\n",
    "    num_set22 = {5,4,3,0,-1,-2}  \n",
    "    print(\"Union set is \",num_set11.union(num_set22))  \n",
    "except Exception as ex:\n",
    "    print(ex)"
   ]
  },
  {
   "cell_type": "markdown",
   "metadata": {},
   "source": [
    "Create Set Difference"
   ]
  },
  {
   "cell_type": "code",
   "execution_count": 30,
   "metadata": {},
   "outputs": [
    {
     "name": "stdout",
     "output_type": "stream",
     "text": [
      "Difference of set31 from 21 is  {1, 2}\n",
      "Difference of set21 from 31 is  {0, -2, -1}\n"
     ]
    }
   ],
   "source": [
    "try:\n",
    "    num_set21 = {1,2,3,4,5}\n",
    "    num_set31 = {5,4,3,0,-1,-2}  \n",
    "    print(\"Difference of set31 from 21 is \",num_set21 - num_set31)  \n",
    "    print(\"Difference of set21 from 31 is \",num_set31 - num_set21)  \n",
    "except Exception as ex:\n",
    "    print(ex)"
   ]
  },
  {
   "cell_type": "markdown",
   "metadata": {},
   "source": [
    "Create Symmetric Difference"
   ]
  },
  {
   "cell_type": "code",
   "execution_count": 33,
   "metadata": {},
   "outputs": [
    {
     "name": "stdout",
     "output_type": "stream",
     "text": [
      "Symmetric Difference of two sets is  {0, 1, 2, -1, -2}\n"
     ]
    }
   ],
   "source": [
    "try:\n",
    "    num_set41 = {1,2,3,4,5}\n",
    "    num_set51 = {5,4,3,0,-1,-2}  \n",
    "    print(\"Symmetric Difference of two sets is \",num_set41.symmetric_difference(num_set51))\n",
    "except Exception as ex:\n",
    "    print(ex)"
   ]
  },
  {
   "cell_type": "markdown",
   "metadata": {},
   "source": [
    "Clear a set"
   ]
  },
  {
   "cell_type": "code",
   "execution_count": 37,
   "metadata": {},
   "outputs": [
    {
     "name": "stdout",
     "output_type": "stream",
     "text": [
      "set()\n"
     ]
    }
   ],
   "source": [
    "try:\n",
    "    num_set9 = {1,2,3,4,5}\n",
    "    # Clearing the set\n",
    "    num_set9.clear()\n",
    "    print(num_set9)\n",
    "except Exception as ex:\n",
    "    print(ex)  "
   ]
  },
  {
   "cell_type": "markdown",
   "metadata": {},
   "source": [
    "Use of Frozen Sets"
   ]
  },
  {
   "cell_type": "code",
   "execution_count": 38,
   "metadata": {},
   "outputs": [
    {
     "name": "stdout",
     "output_type": "stream",
     "text": [
      "Frozen Set is  frozenset({'Viney', 'Vishal', 'Vikky'})\n",
      "As these sets are frozen. If Addition method is applied on these set, then it woyuld trow attribute error which is handled by except block\n",
      "'frozenset' object has no attribute 'add'\n"
     ]
    }
   ],
   "source": [
    "try:\n",
    "    sets_to_be_frozen = {\"Viney\",\"Vishal\",\"Vikky\"}\n",
    "    # Freezing the sets\n",
    "    frozed_set = frozenset(sets_to_be_frozen)\n",
    "    print(\"Frozen Set is \",frozed_set)\n",
    "    print(\"As these sets are frozen. If Addition method is applied on these set, then it woyuld trow attribute error which is handled by except block\")\n",
    "    frozed_set.add(\"Raghav\")\n",
    "except Exception as ex:\n",
    "    print(ex)"
   ]
  },
  {
   "cell_type": "markdown",
   "metadata": {},
   "source": [
    "Find Max and Min Value in Set"
   ]
  },
  {
   "cell_type": "code",
   "execution_count": 39,
   "metadata": {},
   "outputs": [
    {
     "name": "stdout",
     "output_type": "stream",
     "text": [
      "The max value in set is:  5\n",
      "The min value in set is:  -2\n"
     ]
    }
   ],
   "source": [
    "try:\n",
    "    num_set99 = {5,4,3,0,-1,-2}\n",
    "    print(\"The max value in set is: \",max(num_set99))\n",
    "    print(\"The min value in set is: \",min(num_set99))\n",
    "except Exception as ex:\n",
    "    print(ex)"
   ]
  }
 ],
 "metadata": {
  "interpreter": {
   "hash": "04635d289a519a1410467dd0afb0db42f9184808881ca68b2eb5a687a20a5a94"
  },
  "kernelspec": {
   "display_name": "Python 3.7.0 64-bit",
   "language": "python",
   "name": "python3"
  },
  "language_info": {
   "codemirror_mode": {
    "name": "ipython",
    "version": 3
   },
   "file_extension": ".py",
   "mimetype": "text/x-python",
   "name": "python",
   "nbconvert_exporter": "python",
   "pygments_lexer": "ipython3",
   "version": "3.7.0"
  },
  "orig_nbformat": 4
 },
 "nbformat": 4,
 "nbformat_minor": 2
}
