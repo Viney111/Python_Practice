{
 "cells": [
  {
   "cell_type": "code",
   "execution_count": null,
   "metadata": {},
   "outputs": [],
   "source": [
    "'''\n",
    "@Author: Viney Khaneja\n",
    "@Date: 2022-04-18 10:15\n",
    "@Last Modified by: Viney Khaneja\n",
    "@Last Modified time: None\n",
    "@Title : Tupple Problems in Data Structure\n",
    "'''"
   ]
  },
  {
   "cell_type": "markdown",
   "metadata": {},
   "source": [
    "Create a Tuple"
   ]
  },
  {
   "cell_type": "code",
   "execution_count": 2,
   "metadata": {},
   "outputs": [
    {
     "name": "stdout",
     "output_type": "stream",
     "text": [
      "The element is <class 'tuple'> i.e. (1, 5, 6, 7, 'Viney', True, 1j) \n"
     ]
    }
   ],
   "source": [
    "try:\n",
    "    create_tuple = (1,5,6,7,\"Viney\",True,1j)\n",
    "    print(f\"The element is {type(create_tuple)} i.e. {create_tuple} \")\n",
    "except Exception as ex:\n",
    "    print(ex)"
   ]
  },
  {
   "cell_type": "markdown",
   "metadata": {},
   "source": [
    "Create Tuple with different Data Types"
   ]
  },
  {
   "cell_type": "code",
   "execution_count": 3,
   "metadata": {},
   "outputs": [
    {
     "name": "stdout",
     "output_type": "stream",
     "text": [
      "The tuple is having different datatypes in it i.e. (1, 5, 6, 7, 'Viney', True, 1j) \n"
     ]
    }
   ],
   "source": [
    "try:\n",
    "    create_tuple = (1,5,6,7,\"Viney\",True,1j)\n",
    "    print(f\"The tuple is having different datatypes in it i.e. {create_tuple} \")\n",
    "except Exception as ex:\n",
    "    print(ex)"
   ]
  },
  {
   "cell_type": "markdown",
   "metadata": {},
   "source": [
    "Unpacking Tuple in several variables"
   ]
  },
  {
   "cell_type": "code",
   "execution_count": 4,
   "metadata": {},
   "outputs": [
    {
     "name": "stdout",
     "output_type": "stream",
     "text": [
      "n1 is type of <class 'str'> and its value is True.\n",
      "n2 is type of <class 'int'> and its value is 999.\n",
      "n3 is type of <class 'float'> and its value is 2.22.\n",
      "n4 is type of <class 'complex'> and its value is 4j.\n"
     ]
    }
   ],
   "source": [
    "try:\n",
    "    unpacking_tuple = (\"True\",999,2.22,4j)\n",
    "    # Unpackig Tuple in different types of datatypes\n",
    "    n1,n2,n3,n4 = unpacking_tuple\n",
    "    print(f\"n1 is type of {type(n1)} and its value is {n1}.\")\n",
    "    print(f\"n2 is type of {type(n2)} and its value is {n2}.\")\n",
    "    print(f\"n3 is type of {type(n3)} and its value is {n3}.\")\n",
    "    print(f\"n4 is type of {type(n4)} and its value is {n4}.\")\n",
    "except ValueError as ex:\n",
    "    print(ex)\n"
   ]
  },
  {
   "cell_type": "markdown",
   "metadata": {},
   "source": [
    "Make a clone of Tuple"
   ]
  },
  {
   "cell_type": "code",
   "execution_count": 2,
   "metadata": {},
   "outputs": [
    {
     "name": "stdout",
     "output_type": "stream",
     "text": [
      "The clone of Sample Tuple: ('True', 999, 2.22, 4j) is Cloned Tuple: ('True', 999, 2.22, 4j).\n"
     ]
    }
   ],
   "source": [
    "try:\n",
    "    sample_tuple = (\"True\",999,2.22,4j)\n",
    "    clone_tuple = sample_tuple\n",
    "    print(f\"The clone of Sample Tuple: {sample_tuple} is Cloned Tuple: {clone_tuple}.\")\n",
    "except Exception as ex:\n",
    "    print(ex)"
   ]
  },
  {
   "cell_type": "markdown",
   "metadata": {},
   "source": [
    "Find Repeated Items in Tuple"
   ]
  },
  {
   "cell_type": "code",
   "execution_count": 9,
   "metadata": {},
   "outputs": [
    {
     "name": "stdout",
     "output_type": "stream",
     "text": [
      "4 is repeated 2 times in (4, 4, 2, 5, 6, 6, 6, 5, 2, 8, 9)\n",
      "2 is repeated 2 times in (4, 4, 2, 5, 6, 6, 6, 5, 2, 8, 9)\n",
      "5 is repeated 2 times in (4, 4, 2, 5, 6, 6, 6, 5, 2, 8, 9)\n",
      "6 is repeated 3 times in (4, 4, 2, 5, 6, 6, 6, 5, 2, 8, 9)\n"
     ]
    }
   ],
   "source": [
    "try:\n",
    "    tuple1 = (4,4,2,5,6,6,6,5,2,8,9)\n",
    "    count_dict = {}\n",
    "    for item in tuple1:\n",
    "        count = tuple1.count(item)\n",
    "        count_dict[item] = count\n",
    "    for key,value in count_dict.items():\n",
    "        if value >= 2:\n",
    "            print(f\"{key} is repeated {value} times in {tuple1}\")\n",
    "except Exception as ex:\n",
    "    print(ex)"
   ]
  },
  {
   "cell_type": "markdown",
   "metadata": {},
   "source": [
    "Find whether an element exists in tuple or not"
   ]
  },
  {
   "cell_type": "code",
   "execution_count": 15,
   "metadata": {},
   "outputs": [
    {
     "name": "stdout",
     "output_type": "stream",
     "text": [
      "10 is not available in tuple.\n"
     ]
    }
   ],
   "source": [
    "try:\n",
    "    tuple_to_be_checked = (4,5,6,\"Vikky\",\"Viney\",79)\n",
    "    item_to_be_checked = int(input(\"Enter the number you want to search for: \"))\n",
    "    item_search_flag = False\n",
    "    for item in tuple_to_be_checked:\n",
    "        if item == item_to_be_checked:\n",
    "            item_search_flag = True\n",
    "            break\n",
    "    if item_search_flag == True:\n",
    "        print(f\"{item_to_be_checked} is available in tuple.\")\n",
    "    else:\n",
    "        print(f\"{item_to_be_checked} is not available in tuple.\")\n",
    "except Exception as ex:\n",
    "    print(ex)"
   ]
  },
  {
   "cell_type": "markdown",
   "metadata": {},
   "source": [
    "Convert a list into Tuple"
   ]
  },
  {
   "cell_type": "code",
   "execution_count": 16,
   "metadata": {},
   "outputs": [
    {
     "name": "stdout",
     "output_type": "stream",
     "text": [
      "Converted Tuple from [4, 5, 6, 7, 89, 8] is (4, 5, 6, 7, 89, 8) as its type is: <class 'tuple'>\n"
     ]
    }
   ],
   "source": [
    "try:\n",
    "    list_to_be_converted = [4,5,6,7,89,8]\n",
    "    converted_tuple = tuple(list_to_be_converted)\n",
    "    print(f\"Converted Tuple from {list_to_be_converted} is {converted_tuple} as its type is: {type(converted_tuple)}\")\n",
    "except Exception as ex:\n",
    "    print(ex)"
   ]
  },
  {
   "cell_type": "markdown",
   "metadata": {},
   "source": [
    "Remove an Item from Tuple"
   ]
  },
  {
   "cell_type": "code",
   "execution_count": 19,
   "metadata": {},
   "outputs": [
    {
     "name": "stdout",
     "output_type": "stream",
     "text": [
      "After converting into list and removing item, the tuple is  (4, 1, 2, 3, 4)\n"
     ]
    }
   ],
   "source": [
    "try:\n",
    "    tuple_11 = (4,5,1,2,3,4)\n",
    "    # Tupples are immutable, so we dont have remove and add method in tuple\n",
    "    converted_list = list(tuple_11)\n",
    "    converted_list.remove(5)\n",
    "    tuple_11 = tuple(converted_list)\n",
    "    print(\"After converting into list and removing item, the tuple is \",tuple_11)\n",
    "except Exception as ex:\n",
    "    print(ex)"
   ]
  },
  {
   "cell_type": "markdown",
   "metadata": {},
   "source": [
    "Program to slice a tuple"
   ]
  },
  {
   "cell_type": "code",
   "execution_count": 22,
   "metadata": {},
   "outputs": [
    {
     "name": "stdout",
     "output_type": "stream",
     "text": [
      "After slicing resulted tuple is  (4, 5, 6)\n"
     ]
    }
   ],
   "source": [
    "try:\n",
    "    tuple_to_be_sliced = (1,2,3,4,5,6,7,8,9)\n",
    "    # Slicing to get elements at index 3 to 5.....\n",
    "    sliced_tuple = tuple_to_be_sliced[3:6]\n",
    "    print(\"After slicing resulted tuple is \",sliced_tuple)\n",
    "except Exception as ex:\n",
    "    print(ex)"
   ]
  },
  {
   "cell_type": "markdown",
   "metadata": {},
   "source": [
    "Program to reverse a tuple"
   ]
  },
  {
   "cell_type": "code",
   "execution_count": 23,
   "metadata": {},
   "outputs": [
    {
     "name": "stdout",
     "output_type": "stream",
     "text": [
      "After reversing tuple, we get:  (9, 8, 7, 6, 5, 4, 3, 2, 1)\n"
     ]
    }
   ],
   "source": [
    "try:\n",
    "    tuple_to_be_reversed = (1,2,3,4,5,6,7,8,9)\n",
    "    reversed_tuple = tuple_to_be_reversed[::-1]\n",
    "    print(\"After reversing tuple, we get: \",reversed_tuple)\n",
    "except Exception as ex:\n",
    "    print(ex)"
   ]
  }
 ],
 "metadata": {
  "interpreter": {
   "hash": "04635d289a519a1410467dd0afb0db42f9184808881ca68b2eb5a687a20a5a94"
  },
  "kernelspec": {
   "display_name": "Python 3.7.0 64-bit",
   "language": "python",
   "name": "python3"
  },
  "language_info": {
   "codemirror_mode": {
    "name": "ipython",
    "version": 3
   },
   "file_extension": ".py",
   "mimetype": "text/x-python",
   "name": "python",
   "nbconvert_exporter": "python",
   "pygments_lexer": "ipython3",
   "version": "3.7.0"
  },
  "orig_nbformat": 4
 },
 "nbformat": 4,
 "nbformat_minor": 2
}
