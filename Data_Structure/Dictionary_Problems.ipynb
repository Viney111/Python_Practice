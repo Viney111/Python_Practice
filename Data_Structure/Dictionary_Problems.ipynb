{
 "cells": [
  {
   "cell_type": "code",
   "execution_count": null,
   "metadata": {},
   "outputs": [],
   "source": [
    "'''\n",
    "@Author: Viney Khaneja\n",
    "@Date: 2022-04-18 22:15\n",
    "@Last Modified by: Viney Khaneja\n",
    "@Last Modified time: None\n",
    "@Title : Dictionary Problems in Data Structure\n",
    "'''"
   ]
  },
  {
   "cell_type": "markdown",
   "metadata": {},
   "source": [
    "Sort Dictionary ascending or Descending by values."
   ]
  },
  {
   "cell_type": "code",
   "execution_count": 4,
   "metadata": {},
   "outputs": [
    {
     "name": "stdout",
     "output_type": "stream",
     "text": [
      "{'Vishal': 5, 'Raghav': 8, 'Viney': 15, 'Vikky': 20}\n"
     ]
    }
   ],
   "source": [
    "try:\n",
    "    dict1 = {\"Viney\":15,\"Vishal\":5,\"Vikky\":20,\"Raghav\":8}\n",
    "    # Sorting Dictionary by values and casting result in dictionary\n",
    "    sorted_names_dict = dict(sorted(dict1.items(),key=lambda x:x[1]))\n",
    "    print(sorted_names_dict)\n",
    "except Exception as ex:\n",
    "    print(ex)"
   ]
  },
  {
   "cell_type": "markdown",
   "metadata": {},
   "source": [
    "Adding Key,values to Dictionary"
   ]
  },
  {
   "cell_type": "code",
   "execution_count": 5,
   "metadata": {},
   "outputs": [
    {
     "name": "stdout",
     "output_type": "stream",
     "text": [
      "{0: 10, 1: 20, 2: 30}\n"
     ]
    }
   ],
   "source": [
    "try:\n",
    "    sample_dict = {0:10,1:20}\n",
    "    # Adding key value to dictionary\n",
    "    sample_dict[2] = 30\n",
    "    print(sample_dict)\n",
    "except Exception as ex:\n",
    "    print(ex)\n"
   ]
  },
  {
   "cell_type": "markdown",
   "metadata": {},
   "source": [
    "Concatenating Diifferent Dictionaries"
   ]
  },
  {
   "cell_type": "code",
   "execution_count": 17,
   "metadata": {},
   "outputs": [
    {
     "name": "stdout",
     "output_type": "stream",
     "text": [
      "{1: 10, 2: 20, 3: 30, 4: 40, 5: 50, 6: 60}\n"
     ]
    }
   ],
   "source": [
    "try:\n",
    "    # Dictionaries to be concatenated\n",
    "    dic1 = {1:10,2:20}\n",
    "    dic2 = {3:30,4:40}\n",
    "    dic3 = {5:50,6:60}\n",
    "    # By merging through update function\n",
    "    # Concatenating Dic2 with Dic1\n",
    "    dic1.update(dic2)\n",
    "    # Concatenating Dic3 with concatenated Dic1\n",
    "    dic1.update(dic3)\n",
    "    print(dic1)\n",
    "except Exception as ex:\n",
    "    print(ex)"
   ]
  },
  {
   "cell_type": "markdown",
   "metadata": {},
   "source": [
    "Iterate over dictionary using loop"
   ]
  },
  {
   "cell_type": "code",
   "execution_count": 19,
   "metadata": {},
   "outputs": [
    {
     "name": "stdout",
     "output_type": "stream",
     "text": [
      "Viney lives in 124113 zip area\n",
      "Vishal lives in 124001 zip area\n",
      "Vikky lives in 156324 zip area\n",
      "Raghav lives in 122001 zip area\n"
     ]
    }
   ],
   "source": [
    "try:\n",
    "    iterating_dict = {\"Viney\":124113,\"Vishal\":124001,\"Vikky\":156324,\"Raghav\":122001}\n",
    "    for key,value in iterating_dict.items():\n",
    "        print(f\"{key} lives in {value} zip area\")\n",
    "except Exception as ex:\n",
    "    print(ex)\n"
   ]
  },
  {
   "cell_type": "markdown",
   "metadata": {},
   "source": [
    "Creating a dictionary as per problem statement by inputing number from user"
   ]
  },
  {
   "cell_type": "code",
   "execution_count": 29,
   "metadata": {},
   "outputs": [
    {
     "name": "stdout",
     "output_type": "stream",
     "text": [
      "{1: 1, 2: 4, 3: 9, 4: 16, 5: 25, 6: 36, 7: 49, 8: 64, 9: 81, 10: 100}\n"
     ]
    }
   ],
   "source": [
    "try:\n",
    "    num = int(input(\"Enter a number between 1 to n.... \"))\n",
    "    # Creating the list of keys by taking input from user\n",
    "    list_of_keys = []\n",
    "    for i in range(1,num+1):\n",
    "        list_of_keys.append(i)\n",
    "    # Creating list of values by map function\n",
    "    list_of_values = list(map(lambda x: x*x,list_of_keys))\n",
    "    # Zipping list of keys & values & casting it to  dictionary\n",
    "    resulted_dictionary = dict(zip(list_of_keys,list_of_values))\n",
    "    print(resulted_dictionary)\n",
    "except Exception as ex:\n",
    "    print(ex)"
   ]
  },
  {
   "cell_type": "markdown",
   "metadata": {},
   "source": [
    "Removing a key from Dictionary"
   ]
  },
  {
   "cell_type": "code",
   "execution_count": 31,
   "metadata": {},
   "outputs": [
    {
     "name": "stdout",
     "output_type": "stream",
     "text": [
      "Dictionary before removing key is:  {'Viney': 124113, 'Vishal': 124001, 'Vikky': 156324, 'Raghav': 122001}\n",
      "Dictionary after removing key is:  {'Viney': 124113, 'Vishal': 124001, 'Vikky': 156324}\n"
     ]
    }
   ],
   "source": [
    "try:\n",
    "    sample_dict = {\"Viney\":124113,\"Vishal\":124001,\"Vikky\":156324,\"Raghav\":122001}\n",
    "    print(\"Dictionary before removing key is: \",sample_dict)\n",
    "    # Popping the key from dictionary\n",
    "    sample_dict.pop('Raghav')\n",
    "    print(\"Dictionary after removing key is: \",sample_dict)\n",
    "except Exception as ex:\n",
    "    print(ex)"
   ]
  },
  {
   "cell_type": "markdown",
   "metadata": {},
   "source": [
    "Print All Unique Values in Dictionary"
   ]
  },
  {
   "cell_type": "code",
   "execution_count": 34,
   "metadata": {},
   "outputs": [
    {
     "name": "stdout",
     "output_type": "stream",
     "text": [
      "Dictinary before performinh unique method:  [{'V': 'S001'}, {'V': 'S002'}, {'VI': 'S001'}, {'VI': 'S005'}, {'VII': 'S005'}, {'V': 'S009'}, {'VIII': 'S007'}]\n",
      "Unique Values :  {'S007', 'S009', 'S002', 'S001', 'S005'}\n",
      "Unique Values :  {'S007', 'S009', 'S002', 'S001', 'S005'}\n"
     ]
    }
   ],
   "source": [
    "try:   \n",
    "    sample_data = [{\"V\":\"S001\"}, {\"V\": \"S002\"}, {\"VI\": \"S001\"}, {\"VI\": \"S005\"},{\"VII\":\"S005\"}, {\"V\":\"S009\"},{\"VIII\":\"S007\"}]\n",
    "    print(\"Dictinary before performing unique method: \",sample_data) \n",
    "    unique_val = set(val for dic in sample_data for val in dic.values())  \n",
    "    print(\"Unique Values : \",unique_val)\n",
    "    # logic \n",
    "    unique_val_list = [] # list\n",
    "    for dict_kv in sample_data:\n",
    "        for k in dict_kv:\n",
    "            unique_val_list.append(dict_kv[k])\n",
    "    print(\"Unique Values : \",set(unique_val_list)) #coverting into a set to get uique values\n",
    "except Exception as ex:\n",
    "    print(ex)"
   ]
  },
  {
   "cell_type": "markdown",
   "metadata": {},
   "source": [
    "Create Dictionary from String"
   ]
  },
  {
   "cell_type": "code",
   "execution_count": 36,
   "metadata": {},
   "outputs": [
    {
     "name": "stdout",
     "output_type": "stream",
     "text": [
      "String Dictionary :  {'v': 2, 'i': 2, 'n': 2, 'e': 2, 'y': 2}\n"
     ]
    }
   ],
   "source": [
    "try:\n",
    "    word = input(\"Enter a word : \")\n",
    "    str_dict = {}\n",
    "    \n",
    "    for x in word:\n",
    "        keys = str_dict.keys()\n",
    "        #condition \n",
    "        if x in keys:\n",
    "            str_dict[x] += 1\n",
    "        else:\n",
    "            str_dict[x] = 1\n",
    "\n",
    "    print(\"String Dictionary : \",str_dict)\n",
    "\n",
    "except Exception as ex:\n",
    "    print(ex)"
   ]
  },
  {
   "cell_type": "markdown",
   "metadata": {},
   "source": [
    "Print Dictionary in table formate"
   ]
  },
  {
   "cell_type": "code",
   "execution_count": 38,
   "metadata": {},
   "outputs": [
    {
     "name": "stdout",
     "output_type": "stream",
     "text": [
      "Raghav Vikky Viney\n",
      "Driving Reading Volleyball\n",
      "Teaching Swimming Badminton\n",
      "Banking TableTennis Cricket\n"
     ]
    }
   ],
   "source": [
    "try:\n",
    "    dict_hobbies = {'Viney':[\"Volleyball\",\"Badminton\",\"Cricket\"],'Vikky':[\"Reading\",\"Swimming\",\"TableTennis\"],'Raghav':[\"Driving\",\"Teaching\",\"Banking\"]}\n",
    "    for row in zip(*([key] + (value) for key, value in sorted(dict_hobbies.items()))):\n",
    "        print(*row)\n",
    "\n",
    "except Exception as ex:\n",
    "    print(ex)"
   ]
  },
  {
   "cell_type": "markdown",
   "metadata": {},
   "source": [
    "Program to count values associated with key"
   ]
  },
  {
   "cell_type": "code",
   "execution_count": 54,
   "metadata": {},
   "outputs": [
    {
     "name": "stdout",
     "output_type": "stream",
     "text": [
      "Count of value 'True' is :  2\n"
     ]
    }
   ],
   "source": [
    "try:\n",
    "    sample_data = [{'id': 1, 'success': True, 'name': 'Lary'}, {'id': 2, 'success':False, 'name': 'Rabi'}, {'id': 3, 'success': True, 'name': 'Alex'}]\n",
    "    count = 0\n",
    "    for i in sample_data:\n",
    "        if i['success'] == True:\n",
    "            count += 1\n",
    "    print(\"Count of value 'True' is : \",count)\n",
    "\n",
    "except Exception as e:\n",
    "    print(e)"
   ]
  },
  {
   "cell_type": "markdown",
   "metadata": {},
   "source": [
    "Convert a list into Nested Dictionary of keys"
   ]
  },
  {
   "cell_type": "code",
   "execution_count": 63,
   "metadata": {},
   "outputs": [
    {
     "name": "stdout",
     "output_type": "stream",
     "text": [
      "{1: {2: {3: {4: {}}}}}\n"
     ]
    }
   ],
   "source": [
    "try:\n",
    "    num_list = [1, 2, 3, 4]\n",
    "    new_dict = current = {}\n",
    "    for name in num_list:\n",
    "        current[name] = {}\n",
    "        current = current[name]\n",
    "    print(new_dict)\n",
    "except Exception as ex:\n",
    "    print(ex)"
   ]
  },
  {
   "cell_type": "markdown",
   "metadata": {},
   "source": [
    "Checking Multiple keys exist or not"
   ]
  },
  {
   "cell_type": "code",
   "execution_count": 62,
   "metadata": {},
   "outputs": [
    {
     "name": "stdout",
     "output_type": "stream",
     "text": [
      "Checking All Keys :  True\n",
      "Checking multiple Keys :  False\n"
     ]
    }
   ],
   "source": [
    "try:\n",
    "    dict_num = {'A':[1,2,3],'B':[4,5,6],'C':[7,8,9]}\n",
    "    print(\"Checking All Keys : \",dict_num.keys() == {'A','B','C'})\n",
    "    print(\"Checking multiple Keys : \",dict_num.keys() >= {'A','B','C','D'})\n",
    "\n",
    "except Exception as e:\n",
    "    print(e)"
   ]
  },
  {
   "cell_type": "markdown",
   "metadata": {},
   "source": [
    "Count number of items in dictionary values"
   ]
  },
  {
   "cell_type": "code",
   "execution_count": 64,
   "metadata": {},
   "outputs": [
    {
     "name": "stdout",
     "output_type": "stream",
     "text": [
      "Values associated with Viney are 3\n",
      "Values associated with Vikky are 2\n",
      "Values associated with Raghav are 1\n"
     ]
    }
   ],
   "source": [
    "try:\n",
    "    dict_sample = {'Viney':[\"Volleyball\",\"Badminton\",\"Cricket\"],'Vikky':[\"Reading\",\"Swimming\"],'Raghav':[\"Driving\"]}\n",
    "    for key, values in dict_sample.items():\n",
    "        print(f\"Values associated with {key} are {len(values)}\")\n",
    "except Exception as ex:\n",
    "    print(ex)"
   ]
  }
 ],
 "metadata": {
  "interpreter": {
   "hash": "04635d289a519a1410467dd0afb0db42f9184808881ca68b2eb5a687a20a5a94"
  },
  "kernelspec": {
   "display_name": "Python 3.7.0 64-bit",
   "language": "python",
   "name": "python3"
  },
  "language_info": {
   "codemirror_mode": {
    "name": "ipython",
    "version": 3
   },
   "file_extension": ".py",
   "mimetype": "text/x-python",
   "name": "python",
   "nbconvert_exporter": "python",
   "pygments_lexer": "ipython3",
   "version": "3.7.0"
  },
  "orig_nbformat": 4
 },
 "nbformat": 4,
 "nbformat_minor": 2
}
