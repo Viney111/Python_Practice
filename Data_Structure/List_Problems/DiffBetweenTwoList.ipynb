{
 "cells": [
  {
   "cell_type": "code",
   "execution_count": 2,
   "metadata": {},
   "outputs": [
    {
     "name": "stdout",
     "output_type": "stream",
     "text": [
      "List 1 :  [1, 2, 3, 4, 5]\n",
      "List 2 :  [6, 7, 8, 9, 0, 4, 2]\n",
      "Difference members in list 1 are :  6 7 8 9 0 "
     ]
    }
   ],
   "source": [
    "'''\n",
    "@Author: Viney Khaneja\n",
    "@Date: 2022-04-19 12:05\n",
    "@Last Modified by: Viney Khaneja\n",
    "@Last Modified time: None\n",
    "@Title : Difference between two lists\n",
    "'''\n",
    "\n",
    "try:\n",
    "    #list of numbers\n",
    "    numbers1 = [1,2,3,4,5]\n",
    "    numbers2 = [6,7,8,9,0,4,2]\n",
    "    print(\"List 1 : \",numbers1)\n",
    "    print(\"List 2 : \",numbers2)\n",
    "    print(\"Difference members in list 1 are : \",end=\" \")\n",
    "    for i in numbers1:\n",
    "        if not(i in numbers2):\n",
    "            print(i,end=\" \")         \n",
    "except Exception as ex:\n",
    "    print(ex)"
   ]
  }
 ],
 "metadata": {
  "interpreter": {
   "hash": "04635d289a519a1410467dd0afb0db42f9184808881ca68b2eb5a687a20a5a94"
  },
  "kernelspec": {
   "display_name": "Python 3.7.0 64-bit",
   "language": "python",
   "name": "python3"
  },
  "language_info": {
   "codemirror_mode": {
    "name": "ipython",
    "version": 3
   },
   "file_extension": ".py",
   "mimetype": "text/x-python",
   "name": "python",
   "nbconvert_exporter": "python",
   "pygments_lexer": "ipython3",
   "version": "3.7.0"
  },
  "orig_nbformat": 4
 },
 "nbformat": 4,
 "nbformat_minor": 2
}
