{
 "cells": [
  {
   "cell_type": "code",
   "execution_count": 9,
   "metadata": {},
   "outputs": [
    {
     "name": "stdout",
     "output_type": "stream",
     "text": [
      "After removing indices:  ['Green', 'White', 'Black']\n"
     ]
    }
   ],
   "source": [
    "''''\n",
    "@Author: Viney Khaneja\n",
    "@Date: 2022-04-19 11:15\n",
    "@Last Modified by: Viney Khaneja\n",
    "@Last Modified time: None\n",
    "@Title : Removing Nth INDEX Elements\n",
    "'''\n",
    "\n",
    "\n",
    "try:\n",
    "    sample_list = [\"Red\",\"Green\",\"White\",\"Black\",\"Pink\",\"Yellow\"]\n",
    "    # Removing 0th,4th,5th elements from list\n",
    "    removing_index_lists = [0,4,5]\n",
    "    for index in sorted(removing_index_lists,reverse = True):\n",
    "       del sample_list[index]\n",
    "    print(\"After removing indices: \",sample_list)\n",
    "except Exception as ex:\n",
    "    print(ex)"
   ]
  }
 ],
 "metadata": {
  "interpreter": {
   "hash": "04635d289a519a1410467dd0afb0db42f9184808881ca68b2eb5a687a20a5a94"
  },
  "kernelspec": {
   "display_name": "Python 3.7.0 64-bit",
   "language": "python",
   "name": "python3"
  },
  "language_info": {
   "codemirror_mode": {
    "name": "ipython",
    "version": 3
   },
   "file_extension": ".py",
   "mimetype": "text/x-python",
   "name": "python",
   "nbconvert_exporter": "python",
   "pygments_lexer": "ipython3",
   "version": "3.7.0"
  },
  "orig_nbformat": 4
 },
 "nbformat": 4,
 "nbformat_minor": 2
}
