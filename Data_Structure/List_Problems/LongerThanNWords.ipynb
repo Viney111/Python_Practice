{
 "cells": [
  {
   "cell_type": "code",
   "execution_count": 4,
   "metadata": {},
   "outputs": [
    {
     "name": "stdout",
     "output_type": "stream",
     "text": [
      "Strings, which have length longer than 10 are: ['Subramaniam', 'GangadharTilak', 'Phoolawanti']\n"
     ]
    }
   ],
   "source": [
    "'''\n",
    "@Author: Viney Khaneja\n",
    "@Date: 2022-04-19 13:15\n",
    "@Last Modified by: Viney Khaneja\n",
    "@Last Modified time: None\n",
    "@Title : Filtering list in which strings length should be greater than Inputed length\n",
    "'''\n",
    "try:\n",
    "    sample_list = [\"Viney\",\"Subramaniam\",\"GangadharTilak\",\"Mohanlal\",\"Phoolawanti\"]\n",
    "    n = int(input(\"Enter the length, which you want your string be nore than this: \"))\n",
    "    if n > 1:\n",
    "        string_list = list(filter(lambda x: len(x) > n,sample_list))\n",
    "    else:\n",
    "        print(\"Please enter number more than 1\")\n",
    "    print(f\"Strings, which have length longer than {n} are: {string_list}\")\n",
    "except Exception as ex:\n",
    "    print(ex)\n"
   ]
  }
 ],
 "metadata": {
  "interpreter": {
   "hash": "04635d289a519a1410467dd0afb0db42f9184808881ca68b2eb5a687a20a5a94"
  },
  "kernelspec": {
   "display_name": "Python 3.7.0 64-bit",
   "language": "python",
   "name": "python3"
  },
  "language_info": {
   "codemirror_mode": {
    "name": "ipython",
    "version": 3
   },
   "file_extension": ".py",
   "mimetype": "text/x-python",
   "name": "python",
   "nbconvert_exporter": "python",
   "pygments_lexer": "ipython3",
   "version": "3.7.0"
  },
  "orig_nbformat": 4
 },
 "nbformat": 4,
 "nbformat_minor": 2
}
