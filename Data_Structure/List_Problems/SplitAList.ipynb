{
 "cells": [
  {
   "cell_type": "code",
   "execution_count": 6,
   "metadata": {},
   "outputs": [
    {
     "name": "stdout",
     "output_type": "stream",
     "text": [
      "R\n",
      "Rahul\n",
      "Rohit\n",
      "S\n",
      "Sidharth\n",
      "Singh\n",
      "V\n",
      "Vikky\n",
      "Viney\n",
      "Vishal\n"
     ]
    }
   ],
   "source": [
    "'''\n",
    "@Author: Viney Khaneja\n",
    "@Date: 2022-04-19 11:15\n",
    "@Last Modified by: Viney Khaneja\n",
    "@Last Modified time: None\n",
    "@Title : Split list by first character of word\n",
    "'''\n",
    "from itertools import groupby\n",
    "from operator import itemgetter\n",
    "try:\n",
    "    word_list = [\"Viney\",\"Sidharth\",\"Singh\",\"Rahul\",\"Rohit\",\"Vikky\",\"Vishal\"]\n",
    "    for letter, words in groupby(sorted(word_list), key=itemgetter(0)):\n",
    "        print(letter)\n",
    "        for word in words:\n",
    "            print(word)\n",
    "except Exception as ex:\n",
    "    print(ex)"
   ]
  }
 ],
 "metadata": {
  "interpreter": {
   "hash": "04635d289a519a1410467dd0afb0db42f9184808881ca68b2eb5a687a20a5a94"
  },
  "kernelspec": {
   "display_name": "Python 3.7.0 64-bit",
   "language": "python",
   "name": "python3"
  },
  "language_info": {
   "codemirror_mode": {
    "name": "ipython",
    "version": 3
   },
   "file_extension": ".py",
   "mimetype": "text/x-python",
   "name": "python",
   "nbconvert_exporter": "python",
   "pygments_lexer": "ipython3",
   "version": "3.7.0"
  },
  "orig_nbformat": 4
 },
 "nbformat": 4,
 "nbformat_minor": 2
}
