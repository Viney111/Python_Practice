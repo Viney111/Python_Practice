{
 "cells": [
  {
   "cell_type": "code",
   "execution_count": 7,
   "metadata": {},
   "outputs": [
    {
     "name": "stdout",
     "output_type": "stream",
     "text": [
      "True\n"
     ]
    }
   ],
   "source": [
    "'''\n",
    "@Author: Viney Khaneja\n",
    "@Date: 2022-04-19 11:15\n",
    "@Last Modified by: Viney Khaneja\n",
    "@Last Modified time: None\n",
    "@Title : Returns True if two list have at least one common member\n",
    "'''\n",
    "\n",
    "try:\n",
    "    sample_list1 = [1,2,5,6,7,8]\n",
    "    sample_list2 = [2,78,9,74,51,54,69]\n",
    "    def checking_common_element(sample_list1,sample_list2):\n",
    "        \"\"\"\n",
    "        Description : Checking if any element of list2 is present in list1\n",
    "        Parameters : Taking Two lists to be checked, as input\n",
    "        Returns : True or None\n",
    "        \"\"\"\n",
    "        for item in sample_list2:\n",
    "            if sample_list1.__contains__(item):\n",
    "                return True\n",
    "    print(checking_common_element(sample_list1,sample_list2))\n",
    "except Exception as ex:\n",
    "    print(ex)\n",
    "\n"
   ]
  }
 ],
 "metadata": {
  "interpreter": {
   "hash": "04635d289a519a1410467dd0afb0db42f9184808881ca68b2eb5a687a20a5a94"
  },
  "kernelspec": {
   "display_name": "Python 3.7.0 64-bit",
   "language": "python",
   "name": "python3"
  },
  "language_info": {
   "codemirror_mode": {
    "name": "ipython",
    "version": 3
   },
   "file_extension": ".py",
   "mimetype": "text/x-python",
   "name": "python",
   "nbconvert_exporter": "python",
   "pygments_lexer": "ipython3",
   "version": "3.7.0"
  },
  "orig_nbformat": 4
 },
 "nbformat": 4,
 "nbformat_minor": 2
}
