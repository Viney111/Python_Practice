{
 "cells": [
  {
   "cell_type": "code",
   "execution_count": 19,
   "metadata": {},
   "outputs": [
    {
     "data": {
      "text/plain": [
       "'\\n@Author: Viney Khaneja\\n@Date: 2022-04-18 22:15\\n@Last Modified by: Viney Khaneja\\n@Last Modified time: None\\n@Title : Array Problem in Data Structure\\n'"
      ]
     },
     "execution_count": 19,
     "metadata": {},
     "output_type": "execute_result"
    }
   ],
   "source": [
    "'''\n",
    "@Author: Viney Khaneja\n",
    "@Date: 2022-04-18 22:15\n",
    "@Last Modified by: Viney Khaneja\n",
    "@Last Modified time: None\n",
    "@Title : Array Problem in Data Structure\n",
    "'''"
   ]
  },
  {
   "cell_type": "markdown",
   "metadata": {},
   "source": [
    "Array of integers..Displaying Array Items & accessing it through indexes"
   ]
  },
  {
   "cell_type": "code",
   "execution_count": 20,
   "metadata": {},
   "outputs": [
    {
     "name": "stdout",
     "output_type": "stream",
     "text": [
      "Integer Array:  array('i', [2, 8, 9, 5, 7])\n",
      "Accessing through indexes: \n",
      "2\n",
      "8\n",
      "9\n",
      "5\n",
      "7\n"
     ]
    }
   ],
   "source": [
    "import array as arr \n",
    "try:\n",
    "    sample_array = arr.array ('i',[2,8,9,5,7]) # i for integer type\n",
    "    print(\"Integer Array: \",sample_array)\n",
    "\n",
    "    print(\"Accessing through indexes: \")\n",
    "    print(sample_array[0])\n",
    "    print(sample_array[1])\n",
    "    print(sample_array[2])\n",
    "    print(sample_array[3])\n",
    "    print(sample_array[4])\n",
    "except Exception as ex:\n",
    "    print(ex)"
   ]
  },
  {
   "cell_type": "markdown",
   "metadata": {},
   "source": [
    "Reversing the orders of items in Array"
   ]
  },
  {
   "cell_type": "code",
   "execution_count": 21,
   "metadata": {},
   "outputs": [
    {
     "name": "stdout",
     "output_type": "stream",
     "text": [
      "The reversed array is:  array('i', [7, 5, 9, 8, 2])\n"
     ]
    }
   ],
   "source": [
    "import array as arr \n",
    "try:\n",
    "    sample_array = arr.array ('i',[2,8,9,5,7])\n",
    "    # Reverse array by slicing....\n",
    "    reverse_array = sample_array[::-1]\n",
    "    print(\"The reversed array is: \",reverse_array)\n",
    "except Exception as ex:\n",
    "    print(ex)"
   ]
  },
  {
   "cell_type": "markdown",
   "metadata": {},
   "source": [
    "Get Number of Occurences of Element in array"
   ]
  },
  {
   "cell_type": "code",
   "execution_count": 22,
   "metadata": {},
   "outputs": [
    {
     "name": "stdout",
     "output_type": "stream",
     "text": [
      "7 occurs 3 times.\n",
      "2 occurs 2 times.\n"
     ]
    }
   ],
   "source": [
    "import array as arr \n",
    "try:\n",
    "    sample_array = arr.array ('i',[2,8,9,5,7,2,5,7,7])\n",
    "    count_7 = sample_array.count(7)\n",
    "    count_2 =  sample_array.count(2)\n",
    "    print(f\"7 occurs {count_7} times.\")\n",
    "    print(f\"2 occurs {count_2} times.\")\n",
    "except Exception as ex:\n",
    "    print(ex)"
   ]
  },
  {
   "cell_type": "markdown",
   "metadata": {},
   "source": [
    "Remove First Occurence of Specified element in array"
   ]
  },
  {
   "cell_type": "code",
   "execution_count": 23,
   "metadata": {},
   "outputs": [
    {
     "name": "stdout",
     "output_type": "stream",
     "text": [
      "Array after remoovinf first instance of 7:  array('i', [2, 8, 9, 5, 2, 5, 7, 7])\n",
      "Array after remoovinf first instance of 2:  array('i', [8, 9, 5, 2, 5, 7, 7])\n"
     ]
    }
   ],
   "source": [
    "import array as arr \n",
    "try:\n",
    "    sample_array = arr.array ('i',[2,8,9,5,7,2,5,7,7])\n",
    "    sample_array.remove(7)\n",
    "    print(\"Array after remoovinf first instance of 7: \",sample_array)\n",
    "    sample_array.remove(2)\n",
    "    print(\"Array after remoovinf first instance of 2: \",sample_array)\n",
    "except Exception as ex:\n",
    "    print(ex)   "
   ]
  }
 ],
 "metadata": {
  "interpreter": {
   "hash": "04635d289a519a1410467dd0afb0db42f9184808881ca68b2eb5a687a20a5a94"
  },
  "kernelspec": {
   "display_name": "Python 3.7.0 64-bit",
   "language": "python",
   "name": "python3"
  },
  "language_info": {
   "codemirror_mode": {
    "name": "ipython",
    "version": 3
   },
   "file_extension": ".py",
   "mimetype": "text/x-python",
   "name": "python",
   "nbconvert_exporter": "python",
   "pygments_lexer": "ipython3",
   "version": "3.7.0"
  },
  "orig_nbformat": 4
 },
 "nbformat": 4,
 "nbformat_minor": 2
}
